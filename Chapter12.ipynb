{
 "metadata": {
  "name": "Chapter12"
 },
 "nbformat": 3,
 "worksheets": [
  {
   "cells": [
    {
     "cell_type": "code",
     "collapsed": true,
     "input": [
      "def sumall(*args):",
      "    return sum(args)"
     ],
     "language": "python",
     "outputs": [],
     "prompt_number": 3
    },
    {
     "cell_type": "code",
     "collapsed": false,
     "input": [
      "sumall(1,2,3,4,5,6)"
     ],
     "language": "python",
     "outputs": [
      {
       "output_type": "pyout",
       "prompt_number": 5,
       "text": [
        "21"
       ]
      }
     ],
     "prompt_number": 5
    },
    {
     "cell_type": "code",
     "collapsed": true,
     "input": [
      "random?"
     ],
     "language": "python",
     "outputs": [],
     "prompt_number": 6
    },
    {
     "cell_type": "code",
     "collapsed": false,
     "input": [
      "random.random()"
     ],
     "language": "python",
     "outputs": [
      {
       "output_type": "pyout",
       "prompt_number": 40,
       "text": [
        "0.4202975800496246"
       ]
      }
     ],
     "prompt_number": 40
    },
    {
     "cell_type": "code",
     "collapsed": false,
     "input": [
      "r"
     ],
     "language": "python",
     "outputs": [
      {
       "output_type": "pyout",
       "prompt_number": 34,
       "text": [
        "array([ 0.54878878])"
       ]
      }
     ],
     "prompt_number": 34
    },
    {
     "cell_type": "code",
     "collapsed": true,
     "input": [
      "def sort_by_length(words):",
      "    t = []",
      "    for word in words:",
      "        t.append((len(word),random.random(),word))",
      "    t.sort(reverse=True)",
      "    res = []",
      "    for length, number, word in t:",
      "        res.append(word)",
      "    return res"
     ],
     "language": "python",
     "outputs": [],
     "prompt_number": 64
    },
    {
     "cell_type": "code",
     "collapsed": true,
     "input": [
      "words = ['hello','moo','crabby','top','piper','snacks','mop','pop',]"
     ],
     "language": "python",
     "outputs": [],
     "prompt_number": 78
    },
    {
     "cell_type": "code",
     "collapsed": false,
     "input": [
      "sort_by_length(words)"
     ],
     "language": "python",
     "outputs": [
      {
       "output_type": "pyout",
       "prompt_number": 81,
       "text": [
        "['crabby', 'snacks', 'hello', 'piper', 'mop', 'pop', 'top', 'moo']"
       ]
      }
     ],
     "prompt_number": 81
    },
    {
     "cell_type": "code",
     "collapsed": false,
     "input": [
      "def most_frequent(word):",
      "    d = dict()",
      "    t = []",
      "    for letter in word:",
      "        d[letter] = d.get(letter,0)+1",
      "    for key in d:",
      "        t.append((d[key],key))",
      "    t.sort(reverse=True)",
      "    for key, val in t:",
      "        print key, val",
      "    "
     ],
     "language": "python",
     "outputs": [],
     "prompt_number": 113
    },
    {
     "cell_type": "code",
     "collapsed": false,
     "input": [
      "most_frequent('sassafrass')"
     ],
     "language": "python",
     "outputs": [
      {
       "output_type": "stream",
       "stream": "stdout",
       "text": [
        "5 s",
        "3 a",
        "1 r",
        "1 f"
       ]
      }
     ],
     "prompt_number": 115
    },
    {
     "cell_type": "code",
     "collapsed": true,
     "input": [],
     "language": "python",
     "outputs": []
    }
   ]
  }
 ]
}