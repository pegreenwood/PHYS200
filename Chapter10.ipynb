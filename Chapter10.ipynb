{
 "metadata": {
  "name": "Chapter10"
 },
 "nbformat": 3,
 "worksheets": [
  {
   "cells": [
    {
     "cell_type": "code",
     "collapsed": false,
     "input": [
      "len([1, 2, 3])"
     ],
     "language": "python",
     "outputs": [
      {
       "output_type": "pyout",
       "prompt_number": 1,
       "text": [
        "3"
       ]
      }
     ],
     "prompt_number": 1
    },
    {
     "cell_type": "code",
     "collapsed": true,
     "input": [
      "def cumulative_sum(t):",
      "    r = []",
      "    for i in range(len(t)):",
      "        s = sum(t[:i+1])",
      "        r.append(s)",
      "    print r"
     ],
     "language": "python",
     "outputs": [],
     "prompt_number": 4
    },
    {
     "cell_type": "code",
     "collapsed": false,
     "input": [
      "cumulative_sum([1, 2, 3])"
     ],
     "language": "python",
     "outputs": [
      {
       "output_type": "stream",
       "stream": "stdout",
       "text": [
        "[1, 3, 6]"
       ]
      }
     ],
     "prompt_number": 5
    },
    {
     "cell_type": "code",
     "collapsed": false,
     "input": [
      "cumulative_sum([1, 2, 3, 4, 5, 6, 7, 8, 9 ,10])"
     ],
     "language": "python",
     "outputs": [
      {
       "output_type": "stream",
       "stream": "stdout",
       "text": [
        "[1, 3, 6, 10, 15, 21, 28, 36, 45, 55]"
       ]
      }
     ],
     "prompt_number": 6
    },
    {
     "cell_type": "code",
     "collapsed": true,
     "input": [
      "def chop(t):",
      "    del t[0]",
      "    del t[-1]",
      "    print t"
     ],
     "language": "python",
     "outputs": [],
     "prompt_number": 46
    },
    {
     "cell_type": "code",
     "collapsed": false,
     "input": [
      "t = [1, 2, 3, 4]"
     ],
     "language": "python",
     "outputs": [],
     "prompt_number": 50
    },
    {
     "cell_type": "code",
     "collapsed": false,
     "input": [
      "chop(t)"
     ],
     "language": "python",
     "outputs": [
      {
       "output_type": "stream",
       "stream": "stdout",
       "text": [
        "[2, 3]"
       ]
      }
     ],
     "prompt_number": 48
    },
    {
     "cell_type": "code",
     "collapsed": false,
     "input": [
      "def middle(t):",
      "    n = t[1:-1]",
      "    return n"
     ],
     "language": "python",
     "outputs": [],
     "prompt_number": 56
    },
    {
     "cell_type": "code",
     "collapsed": false,
     "input": [
      "middle([1, 2, 3, 4, 5])"
     ],
     "language": "python",
     "outputs": [
      {
       "output_type": "pyout",
       "prompt_number": 57,
       "text": [
        "[2, 3, 4]"
       ]
      }
     ],
     "prompt_number": 57
    },
    {
     "cell_type": "code",
     "collapsed": true,
     "input": [
      "def is_sorted(t):",
      "    m = t[:]",
      "    t.sort()",
      "    if m == t:",
      "        return True",
      "    else:",
      "        return False"
     ],
     "language": "python",
     "outputs": [],
     "prompt_number": 83
    },
    {
     "cell_type": "code",
     "collapsed": false,
     "input": [
      "is_sorted([1,2,3,4,5,6,7])"
     ],
     "language": "python",
     "outputs": [
      {
       "output_type": "pyout",
       "prompt_number": 88,
       "text": [
        "True"
       ]
      }
     ],
     "prompt_number": 88
    },
    {
     "cell_type": "code",
     "collapsed": false,
     "input": [
      "def is_anagram(word1,word2):",
      "    t = list(word1)",
      "    m = list(word2)",
      "    t.sort()",
      "    m.sort()",
      "    if t == m:",
      "        return True",
      "    else:",
      "        return False"
     ],
     "language": "python",
     "outputs": [],
     "prompt_number": 90
    },
    {
     "cell_type": "code",
     "collapsed": false,
     "input": [
      "is_anagram('hello','moo')"
     ],
     "language": "python",
     "outputs": [
      {
       "output_type": "pyout",
       "prompt_number": 93,
       "text": [
        "False"
       ]
      }
     ],
     "prompt_number": 93
    },
    {
     "cell_type": "code",
     "collapsed": false,
     "input": [
      "is_anagram('listen','silent')"
     ],
     "language": "python",
     "outputs": [
      {
       "output_type": "pyout",
       "prompt_number": 94,
       "text": [
        "True"
       ]
      }
     ],
     "prompt_number": 94
    },
    {
     "cell_type": "code",
     "collapsed": true,
     "input": [],
     "language": "python",
     "outputs": []
    }
   ]
  }
 ]
}