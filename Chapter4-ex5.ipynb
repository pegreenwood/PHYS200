{
 "metadata": {
  "name": "Chapter4-ex5"
 },
 "nbformat": 3,
 "worksheets": [
  {
   "cells": [
    {
     "cell_type": "code",
     "collapsed": false,
     "input": [
      "cd"
     ],
     "language": "python",
     "outputs": [
      {
       "output_type": "stream",
       "stream": "stdout",
       "text": [
        "/Users/PhilGreenwood"
       ]
      }
     ],
     "prompt_number": 1
    },
    {
     "cell_type": "code",
     "collapsed": false,
     "input": [
      "cd swampy-2.0"
     ],
     "language": "python",
     "outputs": [
      {
       "output_type": "stream",
       "stream": "stdout",
       "text": [
        "/Users/PhilGreenwood/swampy-2.0"
       ]
      }
     ],
     "prompt_number": 2
    },
    {
     "cell_type": "code",
     "collapsed": false,
     "input": [
      "cd python2"
     ],
     "language": "python",
     "outputs": [
      {
       "output_type": "stream",
       "stream": "stdout",
       "text": [
        "/Users/PhilGreenwood/swampy-2.0/python2"
       ]
      }
     ],
     "prompt_number": 3
    },
    {
     "cell_type": "code",
     "collapsed": true,
     "input": [
      "from TurtleWorld import *"
     ],
     "language": "python",
     "outputs": [],
     "prompt_number": 4
    },
    {
     "cell_type": "code",
     "collapsed": true,
     "input": [
      "def polygon(t,len,n):",
      "    for i in range(n):",
      "        fd(t,len)",
      "        lt(t,360.0/n)",
      "        ",
      "        ",
      "def circle(t,r):",
      "    circ = 2.0*pi*r",
      "    n = 100",
      "    len = (circ/n)",
      "    polygon(t,len,n)",
      "    ",
      "def arc(t,r,angle):",
      "    circ = 2.0*math.pi*r",
      "    arclength = circ*(angle/360.0)",
      "    n = 100",
      "    length = arclength/n",
      "    for i in range(n):",
      "        fd(t,length)",
      "        lt(t, angle/n)",
      "        ",
      ""
     ],
     "language": "python",
     "outputs": [],
     "prompt_number": 52
    },
    {
     "cell_type": "code",
     "collapsed": false,
     "input": [
      "world = TurtleWorld()",
      "bob = Turtle()",
      "",
      "bob.delay = .01",
      "arc(bob,100.,270.)",
      "wait_for_user()"
     ],
     "language": "python",
     "outputs": [],
     "prompt_number": 60
    },
    {
     "cell_type": "code",
     "collapsed": true,
     "input": [],
     "language": "python",
     "outputs": []
    }
   ]
  }
 ]
}