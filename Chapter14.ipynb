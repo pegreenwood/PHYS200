{
 "metadata": {
  "name": "Chapter14"
 },
 "nbformat": 3,
 "worksheets": [
  {
   "cells": [
    {
     "cell_type": "code",
     "collapsed": true,
     "input": [
      "import os",
      "def walk(dir):",
      "    lst = []",
      "    for name in os.listdir(dir):",
      "        path = os.path.join(dir, name)",
      "        if os.path.isfile(path):",
      "            lst.append(path)",
      "        else:",
      "            walk(path)",
      "    return lst"
     ],
     "language": "python",
     "outputs": [],
     "prompt_number": 24
    },
    {
     "cell_type": "code",
     "collapsed": false,
     "input": [
      "cwd = os.getcwd()",
      "cwd"
     ],
     "language": "python",
     "outputs": [
      {
       "output_type": "pyout",
       "prompt_number": 64,
       "text": [
        "'/Users/PhilGreenwood/PHYS200'"
       ]
      }
     ],
     "prompt_number": 64
    },
    {
     "cell_type": "code",
     "collapsed": false,
     "input": [
      "walk(cwd)"
     ],
     "language": "python",
     "outputs": [
      {
       "output_type": "pyout",
       "prompt_number": 30,
       "text": [
        "['/Users/PhilGreenwood/PHYS200/.DS_Store',",
        " '/Users/PhilGreenwood/PHYS200/Chapter1.ipynb',",
        " '/Users/PhilGreenwood/PHYS200/Chapter10.ipynb',",
        " '/Users/PhilGreenwood/PHYS200/Chapter11.ipynb',",
        " '/Users/PhilGreenwood/PHYS200/Chapter12.ipynb',",
        " '/Users/PhilGreenwood/PHYS200/Chapter14.ipynb',",
        " '/Users/PhilGreenwood/PHYS200/Chapter2.ipynb',",
        " '/Users/PhilGreenwood/PHYS200/Chapter3.ipynb',",
        " '/Users/PhilGreenwood/PHYS200/Chapter4-Ex1.ipynb',",
        " '/Users/PhilGreenwood/PHYS200/Chapter4-ex2.ipynb',",
        " '/Users/PhilGreenwood/PHYS200/Chapter4-ex3.ipynb',",
        " '/Users/PhilGreenwood/PHYS200/Chapter4-ex4.ipynb',",
        " '/Users/PhilGreenwood/PHYS200/Chapter4-ex5.ipynb',",
        " '/Users/PhilGreenwood/PHYS200/Chapter4.ipynb',",
        " '/Users/PhilGreenwood/PHYS200/Chapter5.4.py',",
        " '/Users/PhilGreenwood/PHYS200/Chapter5.ipynb',",
        " '/Users/PhilGreenwood/PHYS200/Chapter6.ipynb',",
        " '/Users/PhilGreenwood/PHYS200/Chapter7.ipynb',",
        " '/Users/PhilGreenwood/PHYS200/Chapter8.ipynb',",
        " '/Users/PhilGreenwood/PHYS200/eval_loop.py',",
        " '/Users/PhilGreenwood/PHYS200/eval_loop.pyc',",
        " '/Users/PhilGreenwood/PHYS200/koch.py',",
        " '/Users/PhilGreenwood/PHYS200/MyFirstNotebook.ipynb',",
        " '/Users/PhilGreenwood/PHYS200/README',",
        " '/Users/PhilGreenwood/PHYS200/words.txt']"
       ]
      }
     ],
     "prompt_number": 30
    },
    {
     "cell_type": "code",
     "collapsed": false,
     "input": [
      "os.walk?"
     ],
     "language": "python",
     "outputs": [],
     "prompt_number": 51
    },
    {
     "cell_type": "code",
     "collapsed": true,
     "input": [
      "def print_names(dir):",
      "    os.walk(dir)"
     ],
     "language": "python",
     "outputs": [],
     "prompt_number": 61
    },
    {
     "cell_type": "code",
     "collapsed": false,
     "input": [
      "os.walk('/Users/PhilGreenwood/PHYS200')"
     ],
     "language": "python",
     "outputs": [
      {
       "output_type": "pyout",
       "prompt_number": 66,
       "text": [
        "<generator object walk at 0x6783b98>"
       ]
      }
     ],
     "prompt_number": 66
    },
    {
     "cell_type": "code",
     "collapsed": false,
     "input": [],
     "language": "python",
     "outputs": [
      {
       "ename": "SyntaxError",
       "evalue": "'return' outside function (<ipython-input-49-0f4b75633ffb>, line 1)",
       "output_type": "pyerr",
       "traceback": [
        "\u001b[0;36m  File \u001b[0;32m\"<ipython-input-49-0f4b75633ffb>\"\u001b[0;36m, line \u001b[0;32m1\u001b[0m\n\u001b[0;31mSyntaxError\u001b[0m\u001b[0;31m:\u001b[0m 'return' outside function\n"
       ]
      }
     ],
     "prompt_number": 49
    },
    {
     "cell_type": "code",
     "collapsed": false,
     "input": [
      "run wc.py"
     ],
     "language": "python",
     "outputs": [
      {
       "output_type": "stream",
       "stream": "stdout",
       "text": [
        "9"
       ]
      }
     ],
     "prompt_number": 68
    },
    {
     "cell_type": "code",
     "collapsed": true,
     "input": [
      "import wc"
     ],
     "language": "python",
     "outputs": [],
     "prompt_number": 69
    },
    {
     "cell_type": "code",
     "collapsed": false,
     "input": [
      "__name__"
     ],
     "language": "python",
     "outputs": [
      {
       "output_type": "pyout",
       "prompt_number": 70,
       "text": [
        "'__main__'"
       ]
      }
     ],
     "prompt_number": 70
    },
    {
     "cell_type": "code",
     "collapsed": false,
     "input": [
      "import urllib",
      "conn = urllib.urlopen('http://thinkpython.com/secret.html')",
      "for line in conn.fp:",
      "    print line.strip()"
     ],
     "language": "python",
     "outputs": [
      {
       "output_type": "stream",
       "stream": "stdout",
       "text": [
        "<title>Secret exercise</title>",
        "",
        "<h1>Secret Think Python Exercise</h3>",
        "",
        "<p>",
        "If you are reading this, you are probably working on the urllib",
        "exercise from Think Python.",
        "",
        "<p>",
        "Next, you should read the documentation of the urllib module at",
        "http://docs.python.org/lib/module-urllib.html",
        "",
        "<p>",
        "Then go to www.uszip.com, which provides information about every zip code",
        "in the country.  For example, the URL",
        "",
        "<p>",
        "http://www.uszip.com/zip/02492",
        "",
        "<p>",
        "provides information about Needham MA, including population, longitude",
        "and latitude, etc.",
        "",
        "<p>",
        "Write a program that prompts the user for a zip code and prints the",
        "name and population of the corresponding town.",
        "",
        "<p>",
        "Note: the text you get from uszip.com is in HTML, the language most",
        "web pages are written in.  Even if you don't know HTML, you should be",
        "able to extract the information you are looking for.",
        "",
        "<p>",
        "By the way, your program is an example of a \"screen scraper.\"  You can",
        "read more about this term at",
        "",
        "<p>",
        "http://wikipedia.org/wiki/Screen_scraping",
        "",
        "<p>",
        "Sites that make money from advertising don't like screen scrapers",
        "because they don't display the ads.  Using a screen scraper violates",
        "the terms of service for some sites; that's why this is a secret",
        "exercise!",
        "",
        "<script type=\"text/javascript\">",
        "var gaJsHost = ((\"https:\" == document.location.protocol) ? \"https://ssl.\" : \"http://www.\");",
        "document.write(unescape(\"%3Cscript src='\" + gaJsHost + \"google-analytics.com/ga.js' type='text/javascript'%3E%3C/script%3E\"));",
        "</script>",
        "<script type=\"text/javascript\">",
        "try {",
        "var pageTracker = _gat._getTracker(\"UA-9267613-1\");",
        "pageTracker._trackPageview();",
        "} catch(err) {}</script>",
        "",
        "</body>"
       ]
      }
     ],
     "prompt_number": 71
    },
    {
     "cell_type": "code",
     "collapsed": true,
     "input": [],
     "language": "python",
     "outputs": []
    }
   ]
  }
 ]
}