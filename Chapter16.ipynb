{
 "metadata": {
  "name": "Chapter16"
 },
 "nbformat": 3,
 "worksheets": [
  {
   "cells": [
    {
     "cell_type": "code",
     "collapsed": true,
     "input": [
      "class Time(object):",
      "    \"\"\"represents the time of day.",
      "attributes: hour, minute, second\"\"\""
     ],
     "language": "python",
     "outputs": [],
     "prompt_number": 1
    },
    {
     "cell_type": "code",
     "collapsed": true,
     "input": [
      "time = Time()",
      "time.hour = 11",
      "time.minute = 59",
      "time.second = 30"
     ],
     "language": "python",
     "outputs": [],
     "prompt_number": 2
    },
    {
     "cell_type": "code",
     "collapsed": true,
     "input": [
      "def print_time(to):",
      "    print '%.2d'%to.hour,':','%.2d'%to.minute,':','%.2d'%to.second"
     ],
     "language": "python",
     "outputs": [],
     "prompt_number": 4
    },
    {
     "cell_type": "code",
     "collapsed": false,
     "input": [
      "print_time(time)"
     ],
     "language": "python",
     "outputs": [
      {
       "output_type": "stream",
       "stream": "stdout",
       "text": [
        "11 : 59 : 30"
       ]
      }
     ],
     "prompt_number": 5
    },
    {
     "cell_type": "code",
     "collapsed": true,
     "input": [
      "def is_after(t1,t2):",
      "    if t1.hour < t2.hour:",
      "        return True",
      "    elif t1.hour == t2.hour:",
      "        if t1.minute < t2.minute:",
      "            return True",
      "        elif t1.minute == t2.minute:",
      "            if t1.second < t2.second:",
      "                return True",
      "            else:",
      "                return False",
      "        else:",
      "            return False",
      "    else:",
      "        return False"
     ],
     "language": "python",
     "outputs": [],
     "prompt_number": 13
    },
    {
     "cell_type": "code",
     "collapsed": true,
     "input": [
      "time2 = Time()",
      "time2.hour = 12",
      "time2.minute = 59",
      "time2.second = 29"
     ],
     "language": "python",
     "outputs": [],
     "prompt_number": 22
    },
    {
     "cell_type": "code",
     "collapsed": false,
     "input": [
      "is_after(time,time2)"
     ],
     "language": "python",
     "outputs": [
      {
       "output_type": "pyout",
       "prompt_number": 23,
       "text": [
        "True"
       ]
      }
     ],
     "prompt_number": 23
    },
    {
     "cell_type": "code",
     "collapsed": true,
     "input": [],
     "language": "python",
     "outputs": []
    }
   ]
  }
 ]
}