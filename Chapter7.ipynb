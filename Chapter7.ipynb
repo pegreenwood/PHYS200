{
 "metadata": {
  "name": "Chapter7"
 },
 "nbformat": 3,
 "worksheets": [
  {
   "cells": [
    {
     "cell_type": "code",
     "collapsed": true,
     "input": [
      "def print_n(s,n):",
      "    while n>0:",
      "        print(s)",
      "        n = n-1"
     ],
     "language": "python",
     "outputs": [],
     "prompt_number": 1
    },
    {
     "cell_type": "code",
     "collapsed": false,
     "input": [
      "print_n('hello!', 9)"
     ],
     "language": "python",
     "outputs": [
      {
       "output_type": "stream",
       "stream": "stdout",
       "text": [
        "hello!",
        "hello!",
        "hello!",
        "hello!",
        "hello!",
        "hello!",
        "hello!",
        "hello!",
        "hello!"
       ]
      }
     ],
     "prompt_number": 4
    },
    {
     "cell_type": "code",
     "collapsed": true,
     "input": [
      "import math"
     ],
     "language": "python",
     "outputs": [],
     "prompt_number": 7
    },
    {
     "cell_type": "code",
     "collapsed": false,
     "input": [
      "def square_root(a,x):    #a is number to find root of, x is estimate",
      "    while 1==1:",
      "        print x",
      "        y=(x+a/x)/2",
      "        if abs(y-x) > 0.0000001:",
      "            break",
      "        x = y",
      "        return x == y",
      "    "
     ],
     "language": "python",
     "outputs": [],
     "prompt_number": 27
    },
    {
     "cell_type": "code",
     "collapsed": false,
     "input": [
      "square_root(4,3)"
     ],
     "language": "python",
     "outputs": [
      {
       "output_type": "stream",
       "stream": "stdout",
       "text": [
        "3"
       ]
      }
     ],
     "prompt_number": 28
    },
    {
     "cell_type": "code",
     "collapsed": true,
     "input": [],
     "language": "python",
     "outputs": []
    }
   ]
  }
 ]
}