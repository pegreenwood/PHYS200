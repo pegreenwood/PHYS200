{
 "metadata": {
  "name": "Chapter7"
 },
 "nbformat": 3,
 "worksheets": [
  {
   "cells": [
    {
     "cell_type": "code",
     "collapsed": true,
     "input": [
      "def print_n(s,n):",
      "    while n>0:",
      "        print(s)",
      "        n = n-1"
     ],
     "language": "python",
     "outputs": [],
     "prompt_number": 1
    },
    {
     "cell_type": "code",
     "collapsed": false,
     "input": [
      "print_n('hello!', 9)"
     ],
     "language": "python",
     "outputs": [
      {
       "output_type": "stream",
       "stream": "stdout",
       "text": [
        "hello!",
        "hello!",
        "hello!",
        "hello!",
        "hello!",
        "hello!",
        "hello!",
        "hello!",
        "hello!"
       ]
      }
     ],
     "prompt_number": 4
    },
    {
     "cell_type": "code",
     "collapsed": true,
     "input": [
      "import math"
     ],
     "language": "python",
     "outputs": [],
     "prompt_number": 7
    },
    {
     "cell_type": "code",
     "collapsed": false,
     "input": [
      "def square_root(a,x):    #a is number to find root of, x is estimate",
      "    while True:",
      "        y=(x+a/x)/2",
      "        if abs(y-x) < 0.0000001:",
      "            break",
      "        x = y",
      "        ",
      "    return x   #returns value of the square root of a"
     ],
     "language": "python",
     "outputs": [],
     "prompt_number": 39
    },
    {
     "cell_type": "code",
     "collapsed": false,
     "input": [
      "square_root(64,10)"
     ],
     "language": "python",
     "outputs": [
      {
       "output_type": "pyout",
       "prompt_number": 43,
       "text": [
        "8"
       ]
      }
     ],
     "prompt_number": 43
    },
    {
     "cell_type": "code",
     "collapsed": false,
     "input": [
      "def eval_loop():",
      "    while True:    # tested in terminal and it works",
      "        x = raw_input('> ')",
      "        if x == 'done':",
      "            break",
      "        v = eval(x)",
      "        print v",
      "    return v"
     ],
     "language": "python",
     "outputs": [],
     "prompt_number": "*"
    },
    {
     "cell_type": "code",
     "collapsed": true,
     "input": [],
     "language": "python",
     "outputs": []
    }
   ]
  }
 ]
}