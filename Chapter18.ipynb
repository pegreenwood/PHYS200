{
 "metadata": {
  "name": "Chapter18"
 },
 "nbformat": 3,
 "worksheets": [
  {
   "cells": [
    {
     "cell_type": "code",
     "collapsed": false,
     "input": [
      "class Card(object):",
      "    \"\"\"represents a standard playing card.\"\"\"",
      "    def __init__(self, suit=0, rank=2):",
      "        self.suit = suit",
      "        self.rank = rank",
      "    suit_names = ['Clubs', 'Diamonds', 'Hearts', 'Spades']",
      "    rank_names = [None, 'Ace', '2', '3', '4', '5', '6', '7','8', '9', '10', 'Jack', 'Queen', 'King']",
      "    def __str__(self):",
      "        return '%s of %s' % (Card.rank_names[self.rank],Card.suit_names[self.suit])"
     ],
     "language": "python",
     "outputs": [],
     "prompt_number": 5
    },
    {
     "cell_type": "code",
     "collapsed": true,
     "input": [
      "class Time(object):",
      "    def __init__(self,hour=0,minute=0,second=0):",
      "        self.hour = hour",
      "        self.minute = minute",
      "        self.second = second",
      "    def __str__(self):",
      "        return '%.2d:%.2d:%.2d' % (self.hour,self.minute,self.second)",
      "    def __cmp__(self, other):",
      "        t1 = (self.hour,self.minute,self.second)",
      "        t2 = (other.hour,other.minute,other.second)",
      "        return cmp(t1,t2)"
     ],
     "language": "python",
     "outputs": [],
     "prompt_number": 15
    },
    {
     "cell_type": "code",
     "collapsed": false,
     "input": [
      "time = Time(12,0,0)",
      "print time"
     ],
     "language": "python",
     "outputs": [
      {
       "output_type": "stream",
       "stream": "stdout",
       "text": [
        "12:00:00"
       ]
      }
     ],
     "prompt_number": 26
    },
    {
     "cell_type": "code",
     "collapsed": true,
     "input": [
      "time2 = Time(12,0,0)"
     ],
     "language": "python",
     "outputs": [],
     "prompt_number": 27
    },
    {
     "cell_type": "code",
     "collapsed": false,
     "input": [
      "time > time2"
     ],
     "language": "python",
     "outputs": [
      {
       "output_type": "pyout",
       "prompt_number": 29,
       "text": [
        "False"
       ]
      }
     ],
     "prompt_number": 29
    },
    {
     "cell_type": "code",
     "collapsed": true,
     "input": [
      "class Deck(object):",
      "    def __init__(self):",
      "        self.cards = []",
      "        for suit in range(4):",
      "            for rank in range(1, 14):",
      "                card = Card(suit, rank)",
      "                self.cards.append(card)",
      "    def __str__(self):",
      "        res=[]",
      "        for card in self.cards:",
      "            res.append(str(card))",
      "        return '\\n'.join(res)"
     ],
     "language": "python",
     "outputs": [],
     "prompt_number": 34
    },
    {
     "cell_type": "code",
     "collapsed": false,
     "input": [
      "deck = Deck()",
      "print deck"
     ],
     "language": "python",
     "outputs": [
      {
       "output_type": "stream",
       "stream": "stdout",
       "text": [
        "Ace of Clubs",
        "2 of Clubs",
        "3 of Clubs",
        "4 of Clubs",
        "5 of Clubs",
        "6 of Clubs",
        "7 of Clubs",
        "8 of Clubs",
        "9 of Clubs",
        "10 of Clubs",
        "Jack of Clubs",
        "Queen of Clubs",
        "King of Clubs",
        "Ace of Diamonds",
        "2 of Diamonds",
        "3 of Diamonds",
        "4 of Diamonds",
        "5 of Diamonds",
        "6 of Diamonds",
        "7 of Diamonds",
        "8 of Diamonds",
        "9 of Diamonds",
        "10 of Diamonds",
        "Jack of Diamonds",
        "Queen of Diamonds",
        "King of Diamonds",
        "Ace of Hearts",
        "2 of Hearts",
        "3 of Hearts",
        "4 of Hearts",
        "5 of Hearts",
        "6 of Hearts",
        "7 of Hearts",
        "8 of Hearts",
        "9 of Hearts",
        "10 of Hearts",
        "Jack of Hearts",
        "Queen of Hearts",
        "King of Hearts",
        "Ace of Spades",
        "2 of Spades",
        "3 of Spades",
        "4 of Spades",
        "5 of Spades",
        "6 of Spades",
        "7 of Spades",
        "8 of Spades",
        "9 of Spades",
        "10 of Spades",
        "Jack of Spades",
        "Queen of Spades",
        "King of Spades"
       ]
      }
     ],
     "prompt_number": 35
    },
    {
     "cell_type": "code",
     "collapsed": false,
     "input": [
      "import random",
      "class Deck(object):",
      "    def __init__(self):",
      "        self.cards = []",
      "        for suit in range(4):",
      "            for rank in range(1, 14):",
      "                card = Card(suit, rank)",
      "                self.cards.append(card)",
      "    def __str__(self):",
      "        res=[]",
      "        for card in self.cards:",
      "            res.append(str(card))",
      "        return '\\n'.join(res)",
      "    def pop_card(self):",
      "        return self.cards.pop()",
      "    def add_card(self, card):",
      "        self.cards.append(card)",
      "    def shuffle(self):",
      "        random.shuffle(self.cards)",
      "    def sort(self):",
      "        self.cards.sort()"
     ],
     "language": "python",
     "outputs": [],
     "prompt_number": 133
    },
    {
     "cell_type": "code",
     "collapsed": false,
     "input": [
      "deck = Deck()",
      "deck.shuffle()",
      "print deck"
     ],
     "language": "python",
     "outputs": [
      {
       "output_type": "stream",
       "stream": "stdout",
       "text": [
        "6 of Spades",
        "8 of Hearts",
        "7 of Clubs",
        "Ace of Diamonds",
        "7 of Hearts",
        "Queen of Clubs",
        "Queen of Hearts",
        "9 of Spades",
        "Jack of Spades",
        "3 of Spades",
        "5 of Diamonds",
        "3 of Clubs",
        "Queen of Diamonds",
        "10 of Diamonds",
        "Queen of Spades",
        "6 of Hearts",
        "7 of Diamonds",
        "4 of Clubs",
        "5 of Spades",
        "10 of Hearts",
        "5 of Hearts",
        "Ace of Clubs",
        "Ace of Hearts",
        "4 of Spades",
        "6 of Diamonds",
        "9 of Hearts",
        "3 of Hearts",
        "8 of Diamonds",
        "9 of Clubs",
        "10 of Spades",
        "7 of Spades",
        "Jack of Clubs",
        "5 of Clubs",
        "Ace of Spades",
        "Jack of Diamonds",
        "2 of Hearts",
        "2 of Diamonds",
        "8 of Spades",
        "King of Spades",
        "9 of Diamonds",
        "2 of Spades",
        "King of Hearts",
        "10 of Clubs",
        "8 of Clubs",
        "Jack of Hearts",
        "3 of Diamonds",
        "4 of Diamonds",
        "King of Clubs",
        "2 of Clubs",
        "4 of Hearts",
        "King of Diamonds",
        "6 of Clubs"
       ]
      }
     ],
     "prompt_number": 134
    },
    {
     "cell_type": "code",
     "collapsed": false,
     "input": [
      "deck.sort()    # this didn't properly sort it... but I checked his answer by copying his code and trying it and it didn't quite work properly too",
      "print deck"
     ],
     "language": "python",
     "outputs": [
      {
       "output_type": "stream",
       "stream": "stdout",
       "text": [
        "King of Hearts",
        "Ace of Spades",
        "7 of Diamonds",
        "4 of Spades",
        "2 of Spades",
        "5 of Spades",
        "6 of Diamonds",
        "8 of Hearts",
        "9 of Diamonds",
        "Ace of Hearts",
        "8 of Spades",
        "7 of Spades",
        "Queen of Diamonds",
        "10 of Diamonds",
        "Queen of Hearts",
        "2 of Hearts",
        "10 of Hearts",
        "4 of Hearts",
        "8 of Diamonds",
        "6 of Spades",
        "9 of Hearts",
        "3 of Hearts",
        "6 of Hearts",
        "King of Diamonds",
        "Jack of Diamonds",
        "5 of Hearts",
        "7 of Hearts",
        "Jack of Hearts",
        "3 of Spades",
        "Ace of Clubs",
        "7 of Clubs",
        "King of Clubs",
        "Ace of Diamonds",
        "5 of Clubs",
        "2 of Diamonds",
        "9 of Clubs",
        "8 of Clubs",
        "2 of Clubs",
        "6 of Clubs",
        "10 of Clubs",
        "4 of Clubs",
        "5 of Diamonds",
        "4 of Diamonds",
        "Jack of Clubs",
        "3 of Diamonds",
        "Queen of Clubs",
        "3 of Clubs",
        "Jack of Spades",
        "Queen of Spades",
        "King of Spades",
        "10 of Spades",
        "9 of Spades"
       ]
      }
     ],
     "prompt_number": 135
    },
    {
     "cell_type": "code",
     "collapsed": true,
     "input": [
      "class Hand(Deck):",
      "    \"\"\"represents a hand of playing cards\"\"\"",
      "    def __init__(self, label=''):",
      "        self.cards = []",
      "        self.label = label"
     ],
     "language": "python",
     "outputs": [],
     "prompt_number": 322
    },
    {
     "cell_type": "code",
     "collapsed": false,
     "input": [
      "hand = Hand('new hand')",
      "print hand.cards",
      "print hand.label"
     ],
     "language": "python",
     "outputs": [
      {
       "output_type": "stream",
       "stream": "stdout",
       "text": [
        "[]",
        "new hand"
       ]
      }
     ],
     "prompt_number": 350
    },
    {
     "cell_type": "code",
     "collapsed": false,
     "input": [
      "deck = Deck()",
      "card = deck.pop_card()",
      "hand.add_card(card)",
      "print hand"
     ],
     "language": "python",
     "outputs": [
      {
       "output_type": "stream",
       "stream": "stdout",
       "text": [
        "King of Spades"
       ]
      }
     ],
     "prompt_number": 303
    },
    {
     "cell_type": "code",
     "collapsed": false,
     "input": [
      "",
      "deck = Deck()",
      "deck.deal_cards(1,2)",
      "print hand"
     ],
     "language": "python",
     "outputs": [
      {
       "output_type": "stream",
       "stream": "stdout",
       "text": [
        "King of Spades",
        "Queen of Spades",
        "King of Spades",
        "Queen of Spades",
        "King of Spades",
        "Queen of Spades",
        "King of Spades",
        "Queen of Spades"
       ]
      }
     ],
     "prompt_number": 339
    },
    {
     "cell_type": "code",
     "collapsed": false,
     "input": [
      "import random",
      "class Deck(object):",
      "    def __init__(self):",
      "        self.cards = []",
      "        for suit in range(4):",
      "            for rank in range(1, 14):",
      "                card = Card(suit, rank)",
      "                self.cards.append(card)",
      "    def __str__(self):",
      "        res=[]",
      "        for card in self.cards:",
      "            res.append(str(card))",
      "        return '\\n'.join(res)",
      "    def pop_card(self):",
      "        return self.cards.pop()",
      "    def add_card(self, card):",
      "        self.cards.append(card)",
      "    def shuffle(self):",
      "        random.shuffle(self.cards)",
      "    def sort(self):",
      "        self.cards.sort()",
      "    def move_cards(self, hand_or_deck, num):",
      "        for i in range(num):",
      "            hand.add_card(self.pop_card())",
      "    def deal_cards(self,num_hands,num_cards):",
      "        for i in range(num_hands):",
      "            hand = Hand('new hand')",
      "            deck.move_cards(hand,num_cards)",
      "            return hand,'\\n'",
      "            ",
      "                "
     ],
     "language": "python",
     "outputs": [],
     "prompt_number": 394
    },
    {
     "cell_type": "code",
     "collapsed": true,
     "input": [
      "class Hand(Deck):",
      "    \"\"\"represents a hand of playing cards\"\"\"",
      "    def __init__(self, label=''):",
      "        self.cards = []",
      "        self.label = label"
     ],
     "language": "python",
     "outputs": [],
     "prompt_number": 395
    },
    {
     "cell_type": "code",
     "collapsed": false,
     "input": [
      "hand = Hand('New hand')",
      "deck = Deck()",
      "deck.deal_cards(3,1)",
      "print deck.deal_cards(3,1)"
     ],
     "language": "python",
     "outputs": [
      {
       "output_type": "stream",
       "stream": "stdout",
       "text": [
        "(<__main__.Hand object at 0x67da890>, '\\n')"
       ]
      }
     ],
     "prompt_number": 405
    },
    {
     "cell_type": "code",
     "collapsed": true,
     "input": [],
     "language": "python",
     "outputs": []
    }
   ]
  }
 ]
}