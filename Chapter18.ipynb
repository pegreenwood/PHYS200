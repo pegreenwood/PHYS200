{
 "metadata": {
  "name": "Chapter18"
 },
 "nbformat": 3,
 "worksheets": [
  {
   "cells": [
    {
     "cell_type": "code",
     "collapsed": false,
     "input": [
      "class Card(object):",
      "    \"\"\"represents a standard playing card.\"\"\"",
      "    def __init__(self, suit=0, rank=2):",
      "        self.suit = suit",
      "        self.rank = rank",
      "    suit_names = ['Clubs', 'Diamonds', 'Hearts', 'Spades']",
      "    rank_names = [None, 'Ace', '2', '3', '4', '5', '6', '7','8', '9', '10', 'Jack', 'Queen', 'King']",
      "    def __str__(self):",
      "        return '%s of %s' % (Card.rank_names[self.rank],Card.suit_names[self.suit])"
     ],
     "language": "python",
     "outputs": [],
     "prompt_number": 5
    },
    {
     "cell_type": "code",
     "collapsed": true,
     "input": [
      "class Time(object):",
      "    def __init__(self,hour=0,minute=0,second=0):",
      "        self.hour = hour",
      "        self.minute = minute",
      "        self.second = second",
      "    def __str__(self):",
      "        return '%.2d:%.2d:%.2d' % (self.hour,self.minute,self.second)",
      "    def __cmp__(self, other):",
      "        t1 = (self.hour,self.minute,self.second)",
      "        t2 = (other.hour,other.minute,other.second)",
      "        return cmp(t1,t2)"
     ],
     "language": "python",
     "outputs": [],
     "prompt_number": 15
    },
    {
     "cell_type": "code",
     "collapsed": false,
     "input": [
      "time = Time(12,0,0)",
      "print time"
     ],
     "language": "python",
     "outputs": [
      {
       "output_type": "stream",
       "stream": "stdout",
       "text": [
        "12:00:00"
       ]
      }
     ],
     "prompt_number": 26
    },
    {
     "cell_type": "code",
     "collapsed": true,
     "input": [
      "time2 = Time(12,0,0)"
     ],
     "language": "python",
     "outputs": [],
     "prompt_number": 27
    },
    {
     "cell_type": "code",
     "collapsed": false,
     "input": [
      "time > time2"
     ],
     "language": "python",
     "outputs": [
      {
       "output_type": "pyout",
       "prompt_number": 29,
       "text": [
        "False"
       ]
      }
     ],
     "prompt_number": 29
    },
    {
     "cell_type": "code",
     "collapsed": true,
     "input": [],
     "language": "python",
     "outputs": []
    }
   ]
  }
 ]
}