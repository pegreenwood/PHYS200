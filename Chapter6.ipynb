{
 "metadata": {
  "name": "Chapter6"
 },
 "nbformat": 3,
 "worksheets": [
  {
   "cells": [
    {
     "cell_type": "code",
     "collapsed": true,
     "input": [
      "def compare(x,y):",
      "    if x > y:",
      "        return 1",
      "    elif x == y:",
      "        return 0",
      "    elif x < y:",
      "        return -1"
     ],
     "language": "python",
     "outputs": [],
     "prompt_number": 1
    },
    {
     "cell_type": "code",
     "collapsed": false,
     "input": [
      "compare(10,2)"
     ],
     "language": "python",
     "outputs": [
      {
       "output_type": "pyout",
       "prompt_number": 2,
       "text": [
        "1"
       ]
      }
     ],
     "prompt_number": 2
    },
    {
     "cell_type": "code",
     "collapsed": false,
     "input": [
      "compare(1,1)"
     ],
     "language": "python",
     "outputs": [
      {
       "output_type": "pyout",
       "prompt_number": 3,
       "text": [
        "0"
       ]
      }
     ],
     "prompt_number": 3
    },
    {
     "cell_type": "code",
     "collapsed": false,
     "input": [
      "compare(1,5)"
     ],
     "language": "python",
     "outputs": [
      {
       "output_type": "pyout",
       "prompt_number": 4,
       "text": [
        "-1"
       ]
      }
     ],
     "prompt_number": 4
    },
    {
     "cell_type": "code",
     "collapsed": false,
     "input": [
      "def hypotenuse(x,y): #x and y are legs of right triangle",
      "    x2 = x**2",
      "    y2 = y**2",
      "    print 'x squared is', x2",
      "    print 'y squared is', y2",
      "    c2 = x2 + y2      #pythagorean theorem",
      "    print 'c squared is', c2",
      "    c = sqrt(c2)      #length of hypotenuse",
      "    print 'c is', c",
      "    return c"
     ],
     "language": "python",
     "outputs": [],
     "prompt_number": 19
    },
    {
     "cell_type": "code",
     "collapsed": false,
     "input": [
      "hypotenuse(3,4)"
     ],
     "language": "python",
     "outputs": [
      {
       "output_type": "stream",
       "stream": "stdout",
       "text": [
        "x squared is 9",
        "y squared is 16",
        "c squared is 25",
        "c is 5.0"
       ]
      },
      {
       "output_type": "pyout",
       "prompt_number": 20,
       "text": [
        "5.0"
       ]
      }
     ],
     "prompt_number": 20
    },
    {
     "cell_type": "code",
     "collapsed": true,
     "input": [
      "def hypotenuse(x,y): #x and y are legs of right triangle",
      "    x2 = x**2",
      "    y2 = y**2",
      "    c2 = x2 + y2      #pythagorean theorem",
      "    c = sqrt(c2)      #length of hypotenuse",
      "    return c"
     ],
     "language": "python",
     "outputs": [],
     "prompt_number": 21
    },
    {
     "cell_type": "code",
     "collapsed": false,
     "input": [
      "hypotenuse(3,4)"
     ],
     "language": "python",
     "outputs": [
      {
       "output_type": "pyout",
       "prompt_number": 23,
       "text": [
        "5.0"
       ]
      }
     ],
     "prompt_number": 23
    },
    {
     "cell_type": "code",
     "collapsed": false,
     "input": [
      "def ack(m,n): # for larger values it crashes",
      "    if m==0:",
      "        return n+1",
      "    elif m>0 and n==0:",
      "        return ack(m-1,1)",
      "    else:",
      "        return ack(m-1,ack(m,n-1))"
     ],
     "language": "python",
     "outputs": [],
     "prompt_number": 30
    },
    {
     "cell_type": "code",
     "collapsed": false,
     "input": [
      "ack(3,4)"
     ],
     "language": "python",
     "outputs": [
      {
       "output_type": "pyout",
       "prompt_number": 31,
       "text": [
        "125"
       ]
      }
     ],
     "prompt_number": 31
    },
    {
     "cell_type": "code",
     "collapsed": true,
     "input": [],
     "language": "python",
     "outputs": []
    }
   ]
  }
 ]
}