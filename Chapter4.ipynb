{
 "metadata": {
  "name": "Chapter4"
 },
 "nbformat": 3,
 "worksheets": [
  {
   "cells": [
    {
     "cell_type": "code",
     "collapsed": true,
     "input": [
      "#Excersise 4.1",
      "",
      "# 1",
      "def polygon(t,len,n):",
      "    \"\"\"draws a polygon of n sides with side length 'len'. 't' is turtle\"\"\"",
      "    for i in range(n):",
      "        fd(t,len)",
      "        lt(t,360.0/n)",
      "        ",
      "        ",
      "def circle(t,r):",
      "    \"\"\" draws a circle of radius 'r'. 't' is a turtle\"\"\"",
      "    circ = 2.0*pi*r",
      "    n = 100",
      "    len = (circ/n)",
      "    polygon(t,len,n)",
      "    ",
      "def arc(t,r,angle):",
      "    \"\"\"draws an arclength of length (2*pi*r)/(angle/360) of a circle of radius 'r'\"\"\"",
      "    circ = 2.0*math.pi*r",
      "    arclength = circ*(angle/360.0)",
      "    n = 100",
      "    length = arclength/n",
      "    for i in range(n):",
      "        fd(t,length)",
      "        lt(t, angle/n)",
      "        "
     ],
     "language": "python",
     "outputs": []
    }
   ]
  }
 ]
}